{
 "cells": [
  {
   "cell_type": "code",
   "execution_count": 4,
   "metadata": {},
   "outputs": [],
   "source": [
    "import tweepy\n",
    "\n",
    "auth = tweepy.OAuthHandler(\"beGxhqkzRHpmHWwyD9uWVbXLy\", \"BcBiJaJYoRBOG8mqdMCnhEGOmLQYIKvaDeMEWpNsPtRSgbsXi8\")\n",
    "auth.set_access_token(\"1306219149392183296-khhmScZHJHUtJKjgUP1DnsVnmkaNqy\", \"WJwYm9v7SjZpZ6RMYrVFx30nQ3hENEXA6MkRZCSx7ILnt\")\n",
    "api = tweepy.API(auth)\n",
    "\n",
    "# Tweet something\n",
    "tweet = api.update_status(\"My first tweet!\")"
   ]
  },
  {
   "cell_type": "code",
   "execution_count": null,
   "metadata": {},
   "outputs": [],
   "source": []
  },
  {
   "cell_type": "code",
   "execution_count": null,
   "metadata": {},
   "outputs": [],
   "source": []
  }
 ],
 "metadata": {
  "kernelspec": {
   "display_name": "Python 3",
   "language": "python",
   "name": "python3"
  },
  "language_info": {
   "codemirror_mode": {
    "name": "ipython",
    "version": 3
   },
   "file_extension": ".py",
   "mimetype": "text/x-python",
   "name": "python",
   "nbconvert_exporter": "python",
   "pygments_lexer": "ipython3",
   "version": "3.8.5"
  }
 },
 "nbformat": 4,
 "nbformat_minor": 4
}
